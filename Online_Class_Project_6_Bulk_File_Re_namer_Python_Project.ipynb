{
  "nbformat": 4,
  "nbformat_minor": 0,
  "metadata": {
    "colab": {
      "provenance": [],
      "authorship_tag": "ABX9TyO0Irp2Im5pOKFSwLYhJKYT",
      "include_colab_link": true
    },
    "kernelspec": {
      "name": "python3",
      "display_name": "Python 3"
    },
    "language_info": {
      "name": "python"
    }
  },
  "cells": [
    {
      "cell_type": "markdown",
      "metadata": {
        "id": "view-in-github",
        "colab_type": "text"
      },
      "source": [
        "<a href=\"https://colab.research.google.com/github/EAZaidi/04-Assignments/blob/main/Online_Class_Project_6_Bulk_File_Re_namer_Python_Project.ipynb\" target=\"_parent\"><img src=\"https://colab.research.google.com/assets/colab-badge.svg\" alt=\"Open In Colab\"/></a>"
      ]
    },
    {
      "cell_type": "markdown",
      "source": [
        "# **Bulk File Re-namer Python Project**"
      ],
      "metadata": {
        "id": "IUEcwVZDvQK4"
      }
    },
    {
      "cell_type": "code",
      "execution_count": 1,
      "metadata": {
        "colab": {
          "base_uri": "https://localhost:8080/"
        },
        "id": "cuPviNqxvHhD",
        "outputId": "bcd05301-bdd9-465d-c235-4f563487eb38"
      },
      "outputs": [
        {
          "output_type": "stream",
          "name": "stdout",
          "text": [
            "Enter the directory path where the files are located: C:\n",
            "Error: The directory C: does not exist.\n"
          ]
        }
      ],
      "source": [
        "import streamlit as st\n",
        "import os\n",
        "from datetime import datetime\n",
        "import zipfile\n",
        "import io\n",
        "from PIL import Image\n",
        "\n",
        "# Function to rename the files\n",
        "def rename_files_in_directory(files, prefix=\"New_\", suffix=\"_Renamed\"):\n",
        "    renamed_files = []\n",
        "    for file in files:\n",
        "        # Extract the file name and extension\n",
        "        name, ext = os.path.splitext(file.name)\n",
        "\n",
        "        # Generate the new name with prefix, current date, and suffix\n",
        "        new_name = f\"{prefix}{name}_{datetime.now().strftime('%Y%m%d')}{suffix}{ext}\"\n",
        "\n",
        "        # Save the renamed file\n",
        "        renamed_files.append((file, new_name))\n",
        "\n",
        "    return renamed_files\n",
        "\n",
        "# Streamlit App\n",
        "def main():\n",
        "    st.title(\"Bulk File Renamer\")\n",
        "\n",
        "    # Upload files\n",
        "    uploaded_files = st.file_uploader(\"Choose files to rename\", accept_multiple_files=True)\n",
        "\n",
        "    if uploaded_files:\n",
        "        # Input fields for prefix and suffix\n",
        "        prefix = st.text_input(\"Enter prefix for file names:\", \"New_\")\n",
        "        suffix = st.text_input(\"Enter suffix for file names:\", \"_Renamed\")\n",
        "\n",
        "        # Rename the files when the button is clicked\n",
        "        if st.button(\"Rename Files\"):\n",
        "            renamed_files = rename_files_in_directory(uploaded_files, prefix, suffix)\n",
        "\n",
        "            st.write(\"Renamed Files:\")\n",
        "\n",
        "            # Display the renamed files\n",
        "            for file, new_name in renamed_files:\n",
        "                st.write(f\"Original: {file.name} -> Renamed: {new_name}\")\n",
        "\n",
        "                # To simulate downloading the renamed file\n",
        "                st.download_button(\n",
        "                    label=\"Download renamed file\",\n",
        "                    data=file,\n",
        "                    file_name=new_name,\n",
        "                    mime=\"application/octet-stream\"\n",
        "                )\n",
        "\n",
        "if __name__ == \"__main__\":\n",
        "    main()\n"
      ]
    }
  ]
}