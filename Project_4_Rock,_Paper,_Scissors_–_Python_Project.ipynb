{
  "nbformat": 4,
  "nbformat_minor": 0,
  "metadata": {
    "colab": {
      "provenance": [],
      "authorship_tag": "ABX9TyM8uWEhTfvj6PIqDOryUTWK",
      "include_colab_link": true
    },
    "kernelspec": {
      "name": "python3",
      "display_name": "Python 3"
    },
    "language_info": {
      "name": "python"
    }
  },
  "cells": [
    {
      "cell_type": "markdown",
      "metadata": {
        "id": "view-in-github",
        "colab_type": "text"
      },
      "source": [
        "<a href=\"https://colab.research.google.com/github/EAZaidi/04-Assignments/blob/main/Project_4_Rock%2C_Paper%2C_Scissors_%E2%80%93_Python_Project.ipynb\" target=\"_parent\"><img src=\"https://colab.research.google.com/assets/colab-badge.svg\" alt=\"Open In Colab\"/></a>"
      ]
    },
    {
      "cell_type": "markdown",
      "source": [
        "# **Rock, Paper, Scissors – Python Project**"
      ],
      "metadata": {
        "id": "cydmDyNBEQgK"
      }
    },
    {
      "cell_type": "code",
      "execution_count": null,
      "metadata": {
        "id": "Lug6dVPT__iu"
      },
      "outputs": [],
      "source": [
        "import random\n",
        "\n",
        "def play_round():\n",
        "    options = ['rock', 'paper', 'scissors']\n",
        "    user = input(\"Choose rock, paper, or scissors: \").lower()\n",
        "\n",
        "    if user not in options:\n",
        "        print(\"Invalid choice. Please try again.\")\n",
        "        return\n",
        "\n",
        "    computer = random.choice(options)\n",
        "    print(f\"Computer chose: {computer}\")\n",
        "\n",
        "    if user == computer:\n",
        "        print(\"It's a tie!\")\n",
        "    elif (user == 'rock' and computer == 'scissors') or \\\n",
        "         (user == 'scissors' and computer == 'paper') or \\\n",
        "         (user == 'paper' and computer == 'rock'):\n",
        "        print(\"You win! 🎉\")\n",
        "    else:\n",
        "        print(\"You lose! 😢\")\n",
        "\n",
        "def main():\n",
        "    print(\"🎮 Welcome to Rock, Paper, Scissors!\")\n",
        "    while True:\n",
        "        play_round()\n",
        "        again = input(\"Play again? (yes/no): \").lower()\n",
        "        if again != 'yes':\n",
        "            print(\"Thanks for playing! 👋\")\n",
        "            break\n",
        "\n",
        "if __name__ == '__main__':\n",
        "    main()\n"
      ]
    }
  ]
}