{
  "nbformat": 4,
  "nbformat_minor": 0,
  "metadata": {
    "colab": {
      "provenance": [],
      "authorship_tag": "ABX9TyOLIrnw0clYsRIgeURe4OJN",
      "include_colab_link": true
    },
    "kernelspec": {
      "name": "python3",
      "display_name": "Python 3"
    },
    "language_info": {
      "name": "python"
    }
  },
  "cells": [
    {
      "cell_type": "markdown",
      "metadata": {
        "id": "view-in-github",
        "colab_type": "text"
      },
      "source": [
        "<a href=\"https://colab.research.google.com/github/EAZaidi/04-Assignments/blob/main/Project_7_Password_Generator_Python_Project.ipynb\" target=\"_parent\"><img src=\"https://colab.research.google.com/assets/colab-badge.svg\" alt=\"Open In Colab\"/></a>"
      ]
    },
    {
      "cell_type": "markdown",
      "source": [
        "# **Password Generator Python Project**"
      ],
      "metadata": {
        "id": "eZkV9dbFH5r1"
      }
    },
    {
      "cell_type": "code",
      "execution_count": null,
      "metadata": {
        "id": "ejCJQ6DjH1Z4"
      },
      "outputs": [],
      "source": [
        "import random\n",
        "import string\n",
        "\n",
        "# Step 1: Ask the user how many passwords to generate\n",
        "num_passwords = int(input(\"How many passwords do you want to generate? \"))\n",
        "\n",
        "# Step 2: Ask the user how long each password should be\n",
        "password_length = int(input(\"How long should each password be? \"))\n",
        "\n",
        "# Step 3: Create a string of possible characters\n",
        "all_characters = string.ascii_letters + string.digits + string.punctuation\n",
        "\n",
        "# Step 4: Generate and print the passwords\n",
        "print(\"\\nHere are your passwords:\")\n",
        "for _ in range(num_passwords):\n",
        "    password = \"\"\n",
        "    for _ in range(password_length):\n",
        "        password += random.choice(all_characters)\n",
        "    print(password)\n"
      ]
    }
  ]
}