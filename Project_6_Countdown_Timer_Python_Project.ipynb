{
  "nbformat": 4,
  "nbformat_minor": 0,
  "metadata": {
    "colab": {
      "provenance": [],
      "authorship_tag": "ABX9TyP3pQ6X91iXlQ7BqbT/KP5m",
      "include_colab_link": true
    },
    "kernelspec": {
      "name": "python3",
      "display_name": "Python 3"
    },
    "language_info": {
      "name": "python"
    }
  },
  "cells": [
    {
      "cell_type": "markdown",
      "metadata": {
        "id": "view-in-github",
        "colab_type": "text"
      },
      "source": [
        "<a href=\"https://colab.research.google.com/github/EAZaidi/04-Assignments/blob/main/Project_6_Countdown_Timer_Python_Project.ipynb\" target=\"_parent\"><img src=\"https://colab.research.google.com/assets/colab-badge.svg\" alt=\"Open In Colab\"/></a>"
      ]
    },
    {
      "cell_type": "markdown",
      "source": [
        "# **Countdown Timer Python Project**"
      ],
      "metadata": {
        "id": "ZV09KY6uHAPX"
      }
    },
    {
      "cell_type": "code",
      "execution_count": 2,
      "metadata": {
        "colab": {
          "base_uri": "https://localhost:8080/"
        },
        "id": "02C0D33EG4od",
        "outputId": "0778a310-c72c-4d3a-d63d-635965664a9f"
      },
      "outputs": [
        {
          "output_type": "stream",
          "name": "stdout",
          "text": [
            "Enter time in seconds: 5\n",
            "5\n",
            "4\n",
            "3\n",
            "2\n",
            "1\n",
            "⏰ Time's up!\n"
          ]
        }
      ],
      "source": [
        "import time\n",
        "\n",
        "seconds = int(input(\"Enter time in seconds: \"))\n",
        "\n",
        "while seconds > 0:\n",
        "    print(seconds)\n",
        "    time.sleep(1)\n",
        "    seconds -= 1\n",
        "\n",
        "print(\"⏰ Time's up!\")\n"
      ]
    }
  ]
}