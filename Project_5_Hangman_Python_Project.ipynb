{
  "nbformat": 4,
  "nbformat_minor": 0,
  "metadata": {
    "colab": {
      "provenance": [],
      "authorship_tag": "ABX9TyMAWnH1hpSRfZpMGIIYGHAX",
      "include_colab_link": true
    },
    "kernelspec": {
      "name": "python3",
      "display_name": "Python 3"
    },
    "language_info": {
      "name": "python"
    }
  },
  "cells": [
    {
      "cell_type": "markdown",
      "metadata": {
        "id": "view-in-github",
        "colab_type": "text"
      },
      "source": [
        "<a href=\"https://colab.research.google.com/github/EAZaidi/04-Assignments/blob/main/Project_5_Hangman_Python_Project.ipynb\" target=\"_parent\"><img src=\"https://colab.research.google.com/assets/colab-badge.svg\" alt=\"Open In Colab\"/></a>"
      ]
    },
    {
      "cell_type": "markdown",
      "source": [
        "# **Hangman Python Project**"
      ],
      "metadata": {
        "id": "hUTzLtYBFFeg"
      }
    },
    {
      "cell_type": "code",
      "execution_count": null,
      "metadata": {
        "id": "HsgpM0wEE-h1"
      },
      "outputs": [],
      "source": [
        "import random\n",
        "import string\n",
        "\n",
        "def get_valid_word(word_list):\n",
        "    word = random.choice(word_list)\n",
        "    while '-' in word or ' ' in word:\n",
        "        word = random.choice(word_list)\n",
        "    return word.upper()\n",
        "\n",
        "def hangman():\n",
        "    words = [\"python\", \"developer\", \"hangman\", \"keyboard\", \"awesome\", \"challenge\", \"function\"]\n",
        "    word = get_valid_word(words)\n",
        "    word_letters = set(word)  # Letters in the word\n",
        "    alphabet = set(string.ascii_uppercase)\n",
        "    used_letters = set()  # What the user has guessed\n",
        "\n",
        "    lives = 6\n",
        "\n",
        "    print(\"🎯 Welcome to Hangman!\")\n",
        "    print(\"Guess the word letter by letter.\")\n",
        "\n",
        "    while len(word_letters) > 0 and lives > 0:\n",
        "        # Display current status\n",
        "        print(\"\\nYou have\", lives, \"lives left. Used letters:\", ' '.join(sorted(used_letters)))\n",
        "\n",
        "        # Show the current word with blanks\n",
        "        word_display = [letter if letter in used_letters else '_' for letter in word]\n",
        "        print(\"Current word:\", ' '.join(word_display))\n",
        "\n",
        "        # Get the user's guess\n",
        "        user_letter = input(\"Guess a letter: \").upper()\n",
        "\n",
        "        # Validate input\n",
        "        if len(user_letter) == 1 and user_letter in alphabet - used_letters:\n",
        "            used_letters.add(user_letter)\n",
        "            if user_letter in word_letters:\n",
        "                word_letters.remove(user_letter)\n",
        "                print(\"✅ Good guess!\")\n",
        "            else:\n",
        "                lives -= 1\n",
        "                print(\"❌ Wrong guess.\")\n",
        "        elif user_letter in used_letters:\n",
        "            print(\"⚠️ You already guessed that letter.\")\n",
        "        else:\n",
        "            print(\"🚫 Invalid input. Please enter a single unused letter.\")\n",
        "\n",
        "    # Game result\n",
        "    if lives == 0:\n",
        "        print(f\"\\n😵 You ran out of lives! The word was: {word}\")\n",
        "    else:\n",
        "        print(f\"\\n🎉 Congratulations! You guessed the word: {word}\")\n",
        "\n",
        "def main():\n",
        "    hangman()\n",
        "\n",
        "if __name__ == '__main__':\n",
        "    main()\n"
      ]
    }
  ]
}