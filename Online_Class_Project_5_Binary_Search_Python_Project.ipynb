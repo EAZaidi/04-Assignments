{
  "nbformat": 4,
  "nbformat_minor": 0,
  "metadata": {
    "colab": {
      "provenance": [],
      "authorship_tag": "ABX9TyNaRcrn+AWEwg3hsDRBJ7Sz",
      "include_colab_link": true
    },
    "kernelspec": {
      "name": "python3",
      "display_name": "Python 3"
    },
    "language_info": {
      "name": "python"
    }
  },
  "cells": [
    {
      "cell_type": "markdown",
      "metadata": {
        "id": "view-in-github",
        "colab_type": "text"
      },
      "source": [
        "<a href=\"https://colab.research.google.com/github/EAZaidi/04-Assignments/blob/main/Online_Class_Project_5_Binary_Search_Python_Project.ipynb\" target=\"_parent\"><img src=\"https://colab.research.google.com/assets/colab-badge.svg\" alt=\"Open In Colab\"/></a>"
      ]
    },
    {
      "cell_type": "markdown",
      "source": [
        "# **Binary Search Python Project**"
      ],
      "metadata": {
        "id": "mX7r3ThitV6Z"
      }
    },
    {
      "cell_type": "code",
      "execution_count": null,
      "metadata": {
        "id": "arBACDJhtFYN"
      },
      "outputs": [],
      "source": [
        "import streamlit as st\n",
        "\n",
        "def binary_search(arr, target):\n",
        "    left = 0\n",
        "    right = len(arr) - 1\n",
        "\n",
        "    while left <= right:\n",
        "        mid = left + (right - left) // 2\n",
        "        if arr[mid] == target:\n",
        "            return mid\n",
        "        elif arr[mid] < target:\n",
        "            left = mid + 1\n",
        "        else:\n",
        "            right = mid - 1\n",
        "    return -1\n",
        "\n",
        "def main():\n",
        "    st.title(\"Binary Search Algorithm\")\n",
        "\n",
        "    # User input for the sorted array and target number\n",
        "    array_input = st.text_input(\"Enter a sorted array (comma-separated):\")\n",
        "\n",
        "    # Check if the input is empty\n",
        "    if array_input:\n",
        "        try:\n",
        "            arr = list(map(int, array_input.split(',')))\n",
        "        except ValueError:\n",
        "            st.error(\"Please enter a valid sorted array of integers.\")\n",
        "            return\n",
        "\n",
        "        # Ensure the array is sorted\n",
        "        if arr != sorted(arr):\n",
        "            st.error(\"The array must be sorted. Please enter a sorted array.\")\n",
        "            return\n",
        "\n",
        "        target_input = st.text_input(\"Enter the target value to search for:\")\n",
        "\n",
        "        if target_input:\n",
        "            try:\n",
        "                target = int(target_input)\n",
        "            except ValueError:\n",
        "                st.error(\"Please enter a valid integer for the target.\")\n",
        "                return\n",
        "\n",
        "            if st.button(\"Search\"):\n",
        "                result = binary_search(arr, target)\n",
        "                if result != -1:\n",
        "                    st.success(f\"Element found at index {result}\")\n",
        "                else:\n",
        "                    st.error(\"Element not found.\")\n",
        "    else:\n",
        "        st.warning(\"Please enter a sorted array.\")\n",
        "\n",
        "if __name__ == \"__main__\":\n",
        "    main()\n"
      ]
    }
  ]
}