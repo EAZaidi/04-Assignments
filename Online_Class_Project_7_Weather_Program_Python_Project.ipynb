{
  "nbformat": 4,
  "nbformat_minor": 0,
  "metadata": {
    "colab": {
      "provenance": [],
      "authorship_tag": "ABX9TyN8BW+atguy1DzRbCsEoHZB",
      "include_colab_link": true
    },
    "kernelspec": {
      "name": "python3",
      "display_name": "Python 3"
    },
    "language_info": {
      "name": "python"
    }
  },
  "cells": [
    {
      "cell_type": "markdown",
      "metadata": {
        "id": "view-in-github",
        "colab_type": "text"
      },
      "source": [
        "<a href=\"https://colab.research.google.com/github/EAZaidi/04-Assignments/blob/main/Online_Class_Project_7_Weather_Program_Python_Project.ipynb\" target=\"_parent\"><img src=\"https://colab.research.google.com/assets/colab-badge.svg\" alt=\"Open In Colab\"/></a>"
      ]
    },
    {
      "cell_type": "markdown",
      "source": [
        "# **Weather Program Python Project**"
      ],
      "metadata": {
        "id": "_p_EnEMnwtz_"
      }
    },
    {
      "cell_type": "code",
      "execution_count": null,
      "metadata": {
        "id": "t8JvVIB1wrZH"
      },
      "outputs": [],
      "source": [
        "import requests\n",
        "import streamlit as st\n",
        "\n",
        "# Function to get weather data\n",
        "def get_weather(city, api_key):\n",
        "    try:\n",
        "        url = f\"http://api.openweathermap.org/data/2.5/weather?q={city}&appid={api_key}&units=metric\"\n",
        "        response = requests.get(url)\n",
        "        response.raise_for_status()  # Raises an error for bad responses\n",
        "        data = response.json()\n",
        "\n",
        "        # Extracting weather data\n",
        "        temperature = data['main']['temp']\n",
        "        humidity = data['main']['humidity']\n",
        "        description = data['weather'][0]['description']\n",
        "        city_name = data['name']\n",
        "\n",
        "        return {\n",
        "            \"city\": city_name,\n",
        "            \"temperature\": temperature,\n",
        "            \"humidity\": humidity,\n",
        "            \"description\": description\n",
        "        }\n",
        "\n",
        "    except requests.exceptions.HTTPError:\n",
        "        return {\"error\": \"City not found.\"}\n",
        "    except Exception as e:\n",
        "        return {\"error\": str(e)}\n",
        "\n",
        "# Streamlit App\n",
        "def main():\n",
        "    st.set_page_config(page_title=\"🌤️ Weather App\", layout=\"centered\")\n",
        "    st.title(\"🌦️ Simple Weather App\")\n",
        "    st.markdown(\"Enter a city name to get current weather info.\")\n",
        "\n",
        "    city = st.text_input(\"City name:\")\n",
        "    api_key = \"c12aa05e6af3d9979e07cde99561a007\"  # Use your API key here\n",
        "\n",
        "    if city:\n",
        "        weather = get_weather(city, api_key)\n",
        "\n",
        "        if \"error\" in weather:\n",
        "            st.error(weather[\"error\"])\n",
        "        else:\n",
        "            st.success(f\"Weather in {weather['city']}\")\n",
        "            st.metric(\"🌡️ Temperature\", f\"{weather['temperature']} °C\")\n",
        "            st.metric(\"💧 Humidity\", f\"{weather['humidity']}%\")\n",
        "            st.write(f\"📋 Condition: {weather['description'].capitalize()}\")\n",
        "\n",
        "if __name__ == \"__main__\":\n",
        "    main()\n"
      ]
    }
  ]
}