{
  "nbformat": 4,
  "nbformat_minor": 0,
  "metadata": {
    "colab": {
      "provenance": [],
      "authorship_tag": "ABX9TyNogYTiluxioB1faf/24E6r",
      "include_colab_link": true
    },
    "kernelspec": {
      "name": "python3",
      "display_name": "Python 3"
    },
    "language_info": {
      "name": "python"
    }
  },
  "cells": [
    {
      "cell_type": "markdown",
      "metadata": {
        "id": "view-in-github",
        "colab_type": "text"
      },
      "source": [
        "<a href=\"https://colab.research.google.com/github/EAZaidi/04-Assignments/blob/main/Project_1_Mad_libs_Python_Project.ipynb\" target=\"_parent\"><img src=\"https://colab.research.google.com/assets/colab-badge.svg\" alt=\"Open In Colab\"/></a>"
      ]
    },
    {
      "cell_type": "markdown",
      "source": [
        "Mad Libs Python Project"
      ],
      "metadata": {
        "id": "vNZUuy5t52bl"
      }
    },
    {
      "cell_type": "code",
      "execution_count": 1,
      "metadata": {
        "colab": {
          "base_uri": "https://localhost:8080/"
        },
        "id": "s51W2LR45tyD",
        "outputId": "c991eaca-785f-4a64-c59d-215ee8e8bebc"
      },
      "outputs": [
        {
          "output_type": "stream",
          "name": "stdout",
          "text": [
            "Welcome to Mad Libs! Let's make a silly story together 🎉\n",
            "\n",
            "Enter a name: Essa\n",
            "Enter an adjective: of\n",
            "Enter a noun: cow\n",
            "Enter a verb (past tense): jumped\n",
            "Enter a place: road\n",
            "Enter an animal: cow\n",
            "Enter a type of food: grass\n",
            "\n",
            "Here's your Mad Libs story:\n",
            "\n",
            "One day, Essa was walking through the of forest of road.\n",
            "Suddenly, a giant cow jumped out from behind a cow!\n",
            "Essa jumped as fast as they could, but not before grabbing some grass for the road.\n",
            "What a wild adventure!\n"
          ]
        }
      ],
      "source": [
        "def main():\n",
        "    print(\"Welcome to Mad Libs! Let's make a silly story together 🎉\\n\")\n",
        "\n",
        "    # Gather input from the user\n",
        "    name = input(\"Enter a name: \")\n",
        "    adjective = input(\"Enter an adjective: \")\n",
        "    noun = input(\"Enter a noun: \")\n",
        "    verb = input(\"Enter a verb (past tense): \")\n",
        "    place = input(\"Enter a place: \")\n",
        "    animal = input(\"Enter an animal: \")\n",
        "    food = input(\"Enter a type of food: \")\n",
        "\n",
        "    # Create the story using an f-string\n",
        "    story = (\n",
        "        f\"One day, {name} was walking through the {adjective} forest of {place}.\\n\"\n",
        "        f\"Suddenly, a giant {animal} jumped out from behind a {noun}!\\n\"\n",
        "        f\"{name} {verb} as fast as they could, but not before grabbing some {food} for the road.\\n\"\n",
        "        f\"What a wild adventure!\"\n",
        "    )\n",
        "\n",
        "    # Print the story\n",
        "    print(\"\\nHere's your Mad Libs story:\\n\")\n",
        "    print(story)\n",
        "\n",
        "\n",
        "if __name__ == '__main__':\n",
        "    main()\n"
      ]
    }
  ]
}