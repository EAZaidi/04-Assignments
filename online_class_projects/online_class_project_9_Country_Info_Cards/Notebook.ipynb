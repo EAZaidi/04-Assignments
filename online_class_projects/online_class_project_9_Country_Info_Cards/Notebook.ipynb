{
 "cells": [
  {
   "cell_type": "code",
   "execution_count": 1,
   "id": "2e68a9d8",
   "metadata": {},
   "outputs": [
    {
     "name": "stdout",
     "output_type": "stream",
     "text": [
      "<Response [200]>\n"
     ]
    }
   ],
   "source": [
    "import requests\n",
    "response = requests.get(\"https://restcountries.com/v3/all\")\n",
    "print(response)"
   ]
  },
  {
   "cell_type": "code",
   "execution_count": 7,
   "id": "44c774e7",
   "metadata": {},
   "outputs": [
    {
     "name": "stdout",
     "output_type": "stream",
     "text": [
      "[{'name': {'common': 'Pakistan', 'official': 'Islamic Republic of Pakistan', 'nativeName': {'eng': {'official': 'Islamic Republic of Pakistan', 'common': 'Pakistan'}, 'urd': {'official': 'اسلامی جمہوریۂ پاكستان', 'common': 'پاكستان'}}}, 'tld': ['.pk'], 'cca2': 'PK', 'ccn3': '586', 'cioc': 'PAK', 'independent': True, 'status': 'officially-assigned', 'unMember': True, 'currencies': {'PKR': {'symbol': '₨', 'name': 'Pakistani rupee'}}, 'idd': {'root': '+9', 'suffixes': ['2']}, 'capital': ['Islamabad'], 'altSpellings': ['PK', 'Pākistān', 'Islamic Republic of Pakistan', \"Islāmī Jumhūriya'eh Pākistān\"], 'region': 'Asia', 'subregion': 'Southern Asia', 'languages': {'eng': 'English', 'urd': 'Urdu'}, 'latlng': [30.0, 70.0], 'landlocked': False, 'borders': ['AFG', 'CHN', 'IND', 'IRN'], 'area': 881912.0, 'demonyms': {'eng': {'f': 'Pakistani', 'm': 'Pakistani'}, 'fra': {'f': 'Pakistanaise', 'm': 'Pakistanais'}}, 'cca3': 'PAK', 'translations': {'ara': {'official': 'جمهورية باكستان الإسلامية', 'common': 'باكستان'}, 'bre': {'official': 'Republik islamek Pakistan', 'common': 'Pakistan'}, 'ces': {'official': 'Pákistánská islámská republika', 'common': 'Pákistán'}, 'cym': {'official': 'Islamic Republic of Pakistan', 'common': 'Pakistan'}, 'deu': {'official': 'Islamische Republik Pakistan', 'common': 'Pakistan'}, 'est': {'official': 'Pakistani Islamivabariik', 'common': 'Pakistan'}, 'fin': {'official': 'Pakistanin islamilainen tasavalta', 'common': 'Pakistan'}, 'fra': {'official': 'République islamique du Pakistan', 'common': 'Pakistan'}, 'hrv': {'official': 'Islamska Republika Pakistan', 'common': 'Pakistan'}, 'hun': {'official': 'Pakisztán', 'common': 'Pakisztán'}, 'ita': {'official': 'Repubblica islamica del Pakistan', 'common': 'Pakistan'}, 'jpn': {'official': 'パキスタン', 'common': 'パキスタン'}, 'kor': {'official': '파키스탄 이슬람 공화국', 'common': '파키스탄'}, 'nld': {'official': 'Islamitische Republiek Pakistan', 'common': 'Pakistan'}, 'per': {'official': 'جمهوری اسلامی پاکستان', 'common': 'پاکستان'}, 'pol': {'official': 'Islamska Republika Pakistanu', 'common': 'Pakistan'}, 'por': {'official': 'República Islâmica do Paquistão', 'common': 'Paquistão'}, 'rus': {'official': 'Исламская Республика Пакистан', 'common': 'Пакистан'}, 'slk': {'official': 'Pakistanská islamská republika', 'common': 'Pakistan'}, 'spa': {'official': 'República Islámica de Pakistán', 'common': 'Pakistán'}, 'swe': {'official': 'Islamiska republiken Pakistan', 'common': 'Pakistan'}, 'urd': {'official': 'اسلامی جمہوریہ پاکستان', 'common': 'پاکستان'}, 'zho': {'official': '巴基斯坦伊斯兰共和国', 'common': '巴基斯坦'}}, 'flag': '🇵🇰', 'maps': {'googleMaps': 'https://goo.gl/maps/5LYujdfR5yLUXoERA', 'openStreetMaps': 'https://www.openstreetmap.org/relation/307573'}, 'population': 220892331, 'gini': {'2018': 31.6}, 'fifa': 'PAK', 'car': {'signs': ['PK'], 'side': 'left'}, 'timezones': ['UTC+05:00'], 'continents': ['Asia'], 'flags': ['https://flagcdn.com/pk.svg', 'https://flagcdn.com/w320/pk.png']}]\n"
     ]
    }
   ],
   "source": [
    "response = requests.get(\"https://restcountries.com/v3/name/pakistan\")\n",
    "\n",
    "if response.status_code == 200:\n",
    "    data = response.json()\n",
    "    print(data)\n",
    "else:\n",
    "    print(\"Error\", response.status_code)"
   ]
  },
  {
   "cell_type": "code",
   "execution_count": null,
   "id": "bdfe331b",
   "metadata": {},
   "outputs": [],
   "source": []
  }
 ],
 "metadata": {
  "kernelspec": {
   "display_name": "Python 3",
   "language": "python",
   "name": "python3"
  },
  "language_info": {
   "codemirror_mode": {
    "name": "ipython",
    "version": 3
   },
   "file_extension": ".py",
   "mimetype": "text/x-python",
   "name": "python",
   "nbconvert_exporter": "python",
   "pygments_lexer": "ipython3",
   "version": "3.13.2"
  }
 },
 "nbformat": 4,
 "nbformat_minor": 5
}
