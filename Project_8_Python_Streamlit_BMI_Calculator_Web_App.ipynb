{
  "nbformat": 4,
  "nbformat_minor": 0,
  "metadata": {
    "colab": {
      "provenance": [],
      "authorship_tag": "ABX9TyOlIRiOSfF8y0isgWuYxlD2",
      "include_colab_link": true
    },
    "kernelspec": {
      "name": "python3",
      "display_name": "Python 3"
    },
    "language_info": {
      "name": "python"
    }
  },
  "cells": [
    {
      "cell_type": "markdown",
      "metadata": {
        "id": "view-in-github",
        "colab_type": "text"
      },
      "source": [
        "<a href=\"https://colab.research.google.com/github/EAZaidi/04-Assignments/blob/main/Project_8_Python_Streamlit_BMI_Calculator_Web_App.ipynb\" target=\"_parent\"><img src=\"https://colab.research.google.com/assets/colab-badge.svg\" alt=\"Open In Colab\"/></a>"
      ]
    },
    {
      "cell_type": "markdown",
      "source": [
        "# **Create a Python Streamlit BMI Calculator Web App**"
      ],
      "metadata": {
        "id": "US9qnZjjJNtr"
      }
    },
    {
      "cell_type": "code",
      "execution_count": null,
      "metadata": {
        "id": "hk0uqlr_ItXE"
      },
      "outputs": [],
      "source": [
        "import streamlit as st\n",
        "import pandas as pd\n",
        "\n",
        "st.title(\"BMI Calculator\")\n",
        "\n",
        "height = st.slider(\"Enter your height (in cm):\", 100, 250, 175)\n",
        "weight = st.slider(\"Enter your weight (in kg):\", 40, 200, 70)\n",
        "\n",
        "bmi = weight / ((height/100) ** 2)\n",
        "\n",
        "st.write(f\"Your BMI is {bmi:.2f}\")\n",
        "\n",
        "st.write(\"## BMI Categories ###\")\n",
        "st.write(\"- Underweight: BMI less than 18.5\")\n",
        "st.write(\"- Normal weight: BMI between 18.5 and 24.9\")\n",
        "st.write(\"- Overweight: BMI between 25 and 29.9\")\n",
        "st.write(\"- Obesity: BMI 30 or greater\")"
      ]
    }
  ]
}