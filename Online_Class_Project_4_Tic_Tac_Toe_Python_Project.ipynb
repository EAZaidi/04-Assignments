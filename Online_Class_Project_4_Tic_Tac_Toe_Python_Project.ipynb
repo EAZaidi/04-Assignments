{
  "nbformat": 4,
  "nbformat_minor": 0,
  "metadata": {
    "colab": {
      "provenance": [],
      "authorship_tag": "ABX9TyMoiquXeTiVckbutfPmNGZB",
      "include_colab_link": true
    },
    "kernelspec": {
      "name": "python3",
      "display_name": "Python 3"
    },
    "language_info": {
      "name": "python"
    }
  },
  "cells": [
    {
      "cell_type": "markdown",
      "metadata": {
        "id": "view-in-github",
        "colab_type": "text"
      },
      "source": [
        "<a href=\"https://colab.research.google.com/github/EAZaidi/04-Assignments/blob/main/Online_Class_Project_4_Tic_Tac_Toe_Python_Project.ipynb\" target=\"_parent\"><img src=\"https://colab.research.google.com/assets/colab-badge.svg\" alt=\"Open In Colab\"/></a>"
      ]
    },
    {
      "cell_type": "markdown",
      "source": [
        "# **Tic-Tac-Toe Python Project**"
      ],
      "metadata": {
        "id": "nfCw8u_YX85i"
      }
    },
    {
      "cell_type": "code",
      "execution_count": null,
      "metadata": {
        "id": "ABzTzHIkXsxK"
      },
      "outputs": [],
      "source": [
        "import streamlit as st\n",
        "\n",
        "# Function to check for a winner\n",
        "def check_winner(board):\n",
        "    # Check rows, columns, and diagonals\n",
        "    for i in range(3):\n",
        "        if board[i][0] == board[i][1] == board[i][2] != ' ':\n",
        "            return True\n",
        "        if board[0][i] == board[1][i] == board[2][i] != ' ':\n",
        "            return True\n",
        "    if board[0][0] == board[1][1] == board[2][2] != ' ':\n",
        "        return True\n",
        "    if board[0][2] == board[1][1] == board[2][0] != ' ':\n",
        "        return True\n",
        "    return False\n",
        "\n",
        "# Streamlit App\n",
        "def main():\n",
        "    # Initialize session state\n",
        "    if 'board' not in st.session_state:\n",
        "        st.session_state.board = [[' ' for _ in range(3)] for _ in range(3)]\n",
        "    if 'current_player' not in st.session_state:\n",
        "        st.session_state.current_player = 'X'\n",
        "    if 'game_over' not in st.session_state:\n",
        "        st.session_state.game_over = False\n",
        "\n",
        "    # Display the game title\n",
        "    st.title(\"Tic-Tac-Toe Game\")\n",
        "\n",
        "    # Display the game board\n",
        "    for i in range(3):\n",
        "        cols = st.columns(3)\n",
        "        for j in range(3):\n",
        "            if st.session_state.board[i][j] == ' ':\n",
        "                # Use a unique key for each button based on the cell coordinates (i, j)\n",
        "                if cols[j].button(f\"{i},{j}\", key=f\"cell_{i}_{j}\"):\n",
        "                    st.session_state.board[i][j] = st.session_state.current_player\n",
        "                    if check_winner(st.session_state.board):\n",
        "                        st.session_state.game_over = True\n",
        "                        st.success(f\"Player {st.session_state.current_player} wins!\")\n",
        "                    elif all(st.session_state.board[i][j] != ' ' for i in range(3) for j in range(3)):\n",
        "                        st.session_state.game_over = True\n",
        "                        st.warning(\"It's a draw!\")\n",
        "                    st.session_state.current_player = 'O' if st.session_state.current_player == 'X' else 'X'\n",
        "            else:\n",
        "                cols[j].button(st.session_state.board[i][j], disabled=True, key=f\"cell_{i}_{j}_disabled\")\n",
        "\n",
        "    # Reset button\n",
        "    if st.session_state.game_over:\n",
        "        if st.button(\"Reset Game\"):\n",
        "            st.session_state.board = [[' ' for _ in range(3)] for _ in range(3)]\n",
        "            st.session_state.current_player = 'X'\n",
        "            st.session_state.game_over = False\n",
        "\n",
        "if __name__ == \"__main__\":\n",
        "    main()\n"
      ]
    }
  ]
}