{
  "nbformat": 4,
  "nbformat_minor": 0,
  "metadata": {
    "colab": {
      "provenance": [],
      "authorship_tag": "ABX9TyNqO6qLJaZvbkPXV4NEjT3i",
      "include_colab_link": true
    },
    "kernelspec": {
      "name": "python3",
      "display_name": "Python 3"
    },
    "language_info": {
      "name": "python"
    }
  },
  "cells": [
    {
      "cell_type": "markdown",
      "metadata": {
        "id": "view-in-github",
        "colab_type": "text"
      },
      "source": [
        "<a href=\"https://colab.research.google.com/github/EAZaidi/04-Assignments/blob/main/Project_2_Guess_the_Number_Game_(Computer_User).ipynb\" target=\"_parent\"><img src=\"https://colab.research.google.com/assets/colab-badge.svg\" alt=\"Open In Colab\"/></a>"
      ]
    },
    {
      "cell_type": "markdown",
      "source": [
        "# **Guess the Number Game (Computer)**"
      ],
      "metadata": {
        "id": "Us3aiRur9wLS"
      }
    },
    {
      "cell_type": "code",
      "execution_count": null,
      "metadata": {
        "collapsed": true,
        "id": "niLnP5Jx9R3l"
      },
      "outputs": [],
      "source": [
        "import random\n",
        "\n",
        "def guess_the_number():\n",
        "    print(\"Welcome to 'Guess the Number'! 🎲\")\n",
        "    print(\"I'm thinking of a number between 1 and 100. Can you guess it?\\n\")\n",
        "\n",
        "    # Computer picks a random number\n",
        "    number_to_guess = random.randint(1, 100)\n",
        "    attempts = 0\n",
        "\n",
        "    while True:\n",
        "        try:\n",
        "            guess = int(input(\"Enter your guess: \"))\n",
        "            attempts += 1\n",
        "\n",
        "            if guess < number_to_guess:\n",
        "                print(\"Too low! Try again.\")\n",
        "            elif guess > number_to_guess:\n",
        "                print(\"Too high! Try again.\")\n",
        "            else:\n",
        "                print(f\"🎉 Correct! The number was {number_to_guess}.\")\n",
        "                print(f\"You guessed it in {attempts} tries.\")\n",
        "                break\n",
        "\n",
        "        except ValueError:\n",
        "            print(\"Please enter a valid integer.\")\n",
        "\n",
        "def main():\n",
        "    guess_the_number()\n",
        "\n",
        "if __name__ == '__main__':\n",
        "    main()"
      ]
    },
    {
      "cell_type": "markdown",
      "source": [
        "# **Guess the Number Game (User)**"
      ],
      "metadata": {
        "id": "dGfLp_FN-wQR"
      }
    },
    {
      "cell_type": "code",
      "source": [
        "import random\n",
        "\n",
        "def computer_guesses():\n",
        "    print(\"Think of a number between 1 and 100, and I'll try to guess it!\")\n",
        "    print(\"After each guess, tell me if it's: 'too high', 'too low', or 'correct'.\")\n",
        "\n",
        "    low = 1\n",
        "    high = 100\n",
        "    feedback = \"\"\n",
        "    attempts = 0\n",
        "\n",
        "    while feedback != \"correct\":\n",
        "        if low != high:\n",
        "            guess = random.randint(low, high)\n",
        "        else:\n",
        "            guess = low  # Only one possible number left\n",
        "        attempts += 1\n",
        "\n",
        "        print(f\"My guess is: {guess}\")\n",
        "        feedback = input(\"Is it 'too high', 'too low', or 'correct'? \").lower()\n",
        "\n",
        "        if feedback == \"too high\":\n",
        "            high = guess - 1\n",
        "        elif feedback == \"too low\":\n",
        "            low = guess + 1\n",
        "        elif feedback != \"correct\":\n",
        "            print(\"Please respond with 'too high', 'too low', or 'correct'.\")\n",
        "\n",
        "    print(f\"\\nYay! I guessed your number in {attempts} tries! 🎉\")\n",
        "\n",
        "def main():\n",
        "    computer_guesses()\n",
        "\n",
        "if __name__ == '__main__':\n",
        "    main()\n"
      ],
      "metadata": {
        "id": "Ze0xnKN_-1OS"
      },
      "execution_count": null,
      "outputs": []
    }
  ]
}