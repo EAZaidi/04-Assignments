{
  "nbformat": 4,
  "nbformat_minor": 0,
  "metadata": {
    "colab": {
      "provenance": [],
      "authorship_tag": "ABX9TyPf6qGMom6drx6D4ORaRvTk",
      "include_colab_link": true
    },
    "kernelspec": {
      "name": "python3",
      "display_name": "Python 3"
    },
    "language_info": {
      "name": "python"
    }
  },
  "cells": [
    {
      "cell_type": "markdown",
      "metadata": {
        "id": "view-in-github",
        "colab_type": "text"
      },
      "source": [
        "<a href=\"https://colab.research.google.com/github/EAZaidi/04-Assignments/blob/main/Guess_the_Number_Game_(User).ipynb\" target=\"_parent\"><img src=\"https://colab.research.google.com/assets/colab-badge.svg\" alt=\"Open In Colab\"/></a>"
      ]
    },
    {
      "cell_type": "markdown",
      "source": [
        "# **Guess the Number Game (User)**"
      ],
      "metadata": {
        "id": "4liYU84MC-te"
      }
    },
    {
      "cell_type": "code",
      "execution_count": null,
      "metadata": {
        "id": "BfWeu-sLC1gi"
      },
      "outputs": [],
      "source": [
        "import random\n",
        "\n",
        "def computer_guesses():\n",
        "    print(\"Think of a number between 1 and 100, and I'll try to guess it!\")\n",
        "    print(\"After each guess, tell me if it's: 'too high', 'too low', or 'correct'.\")\n",
        "\n",
        "    low = 1\n",
        "    high = 100\n",
        "    feedback = \"\"\n",
        "    attempts = 0\n",
        "\n",
        "    while feedback != \"correct\":\n",
        "        if low != high:\n",
        "            guess = random.randint(low, high)\n",
        "        else:\n",
        "            guess = low  # Only one possible number left\n",
        "        attempts += 1\n",
        "\n",
        "        print(f\"My guess is: {guess}\")\n",
        "        feedback = input(\"Is it 'too high', 'too low', or 'correct'? \").lower()\n",
        "\n",
        "        if feedback == \"too high\":\n",
        "            high = guess - 1\n",
        "        elif feedback == \"too low\":\n",
        "            low = guess + 1\n",
        "        elif feedback != \"correct\":\n",
        "            print(\"Please respond with 'too high', 'too low', or 'correct'.\")\n",
        "\n",
        "    print(f\"\\nYay! I guessed your number in {attempts} tries! 🎉\")\n",
        "\n",
        "def main():\n",
        "    computer_guesses()\n",
        "\n",
        "if __name__ == '__main__':\n",
        "    main()\n"
      ]
    }
  ]
}