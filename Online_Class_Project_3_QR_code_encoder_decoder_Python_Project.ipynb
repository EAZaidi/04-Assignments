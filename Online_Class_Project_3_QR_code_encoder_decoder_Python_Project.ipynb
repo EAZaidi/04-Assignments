{
  "nbformat": 4,
  "nbformat_minor": 0,
  "metadata": {
    "colab": {
      "provenance": [],
      "authorship_tag": "ABX9TyOxLFMyP4X74f9IFAv+42ew",
      "include_colab_link": true
    },
    "kernelspec": {
      "name": "python3",
      "display_name": "Python 3"
    },
    "language_info": {
      "name": "python"
    }
  },
  "cells": [
    {
      "cell_type": "markdown",
      "metadata": {
        "id": "view-in-github",
        "colab_type": "text"
      },
      "source": [
        "<a href=\"https://colab.research.google.com/github/EAZaidi/04-Assignments/blob/main/Online_Class_Project_3_QR_code_encoder_decoder_Python_Project.ipynb\" target=\"_parent\"><img src=\"https://colab.research.google.com/assets/colab-badge.svg\" alt=\"Open In Colab\"/></a>"
      ]
    },
    {
      "cell_type": "markdown",
      "source": [
        "# **QR code encoder / decoder Python Project**"
      ],
      "metadata": {
        "id": "ZC_gJt26skTz"
      }
    },
    {
      "cell_type": "code",
      "execution_count": null,
      "metadata": {
        "id": "sOrk77Iwsgh8"
      },
      "outputs": [],
      "source": [
        "import streamlit as st\n",
        "import qrcode\n",
        "from pyzbar.pyzbar import decode\n",
        "from PIL import Image\n",
        "import io\n",
        "\n",
        "# Function to generate QR code\n",
        "def generate_qr_code(data):\n",
        "    qr = qrcode.QRCode(\n",
        "        version=1,\n",
        "        error_correction=qrcode.constants.ERROR_CORRECT_L,\n",
        "        box_size=10,\n",
        "        border=4,\n",
        "    )\n",
        "    qr.add_data(data)\n",
        "    qr.make(fit=True)\n",
        "    img = qr.make_image(fill='black', back_color='white')\n",
        "\n",
        "    # Convert PIL Image to BytesIO\n",
        "    img_byte_array = io.BytesIO()\n",
        "    img.save(img_byte_array, format='PNG')\n",
        "    img_byte_array = img_byte_array.getvalue()\n",
        "    return img_byte_array\n",
        "\n",
        "# Function to decode QR code from an uploaded image\n",
        "def decode_qr_code(img):\n",
        "    qr_codes = decode(img)\n",
        "    decoded_data = []\n",
        "    for qr_code in qr_codes:\n",
        "        qr_data = qr_code.data.decode('utf-8')\n",
        "        decoded_data.append(qr_data)\n",
        "    return decoded_data\n",
        "\n",
        "def main():\n",
        "    st.title(\"QR Code Encoder/Decoder\")\n",
        "\n",
        "    # Encoder Section\n",
        "    st.header(\"Encode Text into QR Code\")\n",
        "    data = st.text_input(\"Enter the data to encode into a QR Code:\")\n",
        "\n",
        "    if st.button(\"Generate QR Code\"):\n",
        "        if data:\n",
        "            img_byte_array = generate_qr_code(data)\n",
        "            st.image(img_byte_array, caption=\"Generated QR Code\", use_container_width=True)\n",
        "        else:\n",
        "            st.warning(\"Please enter some data to encode.\")\n",
        "\n",
        "    # Decoder Section\n",
        "    st.header(\"Decode QR Code from Image\")\n",
        "    uploaded_file = st.file_uploader(\"Choose a QR code image\", type=[\"png\", \"jpg\", \"jpeg\"])\n",
        "\n",
        "    if uploaded_file is not None:\n",
        "        # Open the uploaded image\n",
        "        img = Image.open(uploaded_file)\n",
        "        decoded_data = decode_qr_code(img)\n",
        "\n",
        "        if decoded_data:\n",
        "            st.write(\"Decoded Data: \", decoded_data)\n",
        "        else:\n",
        "            st.warning(\"No QR code detected in the image.\")\n",
        "\n",
        "if __name__ == \"__main__\":\n",
        "    main()\n"
      ]
    }
  ]
}