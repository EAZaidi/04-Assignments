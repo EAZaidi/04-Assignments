{
  "nbformat": 4,
  "nbformat_minor": 0,
  "metadata": {
    "colab": {
      "provenance": [],
      "authorship_tag": "ABX9TyMEQUuUmYHJ4knYhdIbmfwd",
      "include_colab_link": true
    },
    "kernelspec": {
      "name": "python3",
      "display_name": "Python 3"
    },
    "language_info": {
      "name": "python"
    }
  },
  "cells": [
    {
      "cell_type": "markdown",
      "metadata": {
        "id": "view-in-github",
        "colab_type": "text"
      },
      "source": [
        "<a href=\"https://colab.research.google.com/github/EAZaidi/04-Assignments/blob/main/Project_2_Guess_the_Number_Game_(Computer).ipynb\" target=\"_parent\"><img src=\"https://colab.research.google.com/assets/colab-badge.svg\" alt=\"Open In Colab\"/></a>"
      ]
    },
    {
      "cell_type": "markdown",
      "source": [
        "# **Guess the Number Game (Computer)**"
      ],
      "metadata": {
        "id": "Us3aiRur9wLS"
      }
    },
    {
      "cell_type": "code",
      "execution_count": null,
      "metadata": {
        "collapsed": true,
        "id": "niLnP5Jx9R3l"
      },
      "outputs": [],
      "source": [
        "import random\n",
        "\n",
        "def guess_the_number():\n",
        "    print(\"Welcome to 'Guess the Number'! 🎲\")\n",
        "    print(\"I'm thinking of a number between 1 and 100. Can you guess it?\\n\")\n",
        "\n",
        "    # Computer picks a random number\n",
        "    number_to_guess = random.randint(1, 100)\n",
        "    attempts = 0\n",
        "\n",
        "    while True:\n",
        "        try:\n",
        "            guess = int(input(\"Enter your guess: \"))\n",
        "            attempts += 1\n",
        "\n",
        "            if guess < number_to_guess:\n",
        "                print(\"Too low! Try again.\")\n",
        "            elif guess > number_to_guess:\n",
        "                print(\"Too high! Try again.\")\n",
        "            else:\n",
        "                print(f\"🎉 Correct! The number was {number_to_guess}.\")\n",
        "                print(f\"You guessed it in {attempts} tries.\")\n",
        "                break\n",
        "\n",
        "        except ValueError:\n",
        "            print(\"Please enter a valid integer.\")\n",
        "\n",
        "def main():\n",
        "    guess_the_number()\n",
        "\n",
        "if __name__ == '__main__':\n",
        "    main()"
      ]
    }
  ]
}